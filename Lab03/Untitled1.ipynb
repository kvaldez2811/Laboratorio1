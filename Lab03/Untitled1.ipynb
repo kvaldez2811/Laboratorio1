{
  "nbformat": 4,
  "nbformat_minor": 0,
  "metadata": {
    "colab": {
      "name": "Untitled1.ipynb",
      "provenance": []
    },
    "kernelspec": {
      "name": "python3",
      "display_name": "Python 3"
    }
  },
  "cells": [
    {
      "cell_type": "code",
      "metadata": {
        "id": "BnosCtZ4kXN_",
        "colab_type": "code",
        "colab": {
          "base_uri": "https://localhost:8080/",
          "height": 34
        },
        "outputId": "976ed782-4167-4bed-b160-6f6969a83df5"
      },
      "source": [
        "%tensorflow_version 2.x\n",
        "import tensorflow as tf\n",
        "import tensorflow_hub as hub\n",
        "\n",
        "from tensorflow.keras.preprocessing.text import Tokenizer\n",
        "from tensorflow.keras.preprocessing.sequence import pad_sequences\n",
        "\n",
        "from tensorflow.keras.models import Sequential\n",
        "from tensorflow.keras.layers import Dense, Embedding, Flatten, GlobalAveragePooling1D\n",
        "\n",
        "import numpy as np\n",
        "import pandas as pd\n",
        "import matplotlib.pylab as plt\n",
        "import os, re, json, functools\n",
        "\n",
        "plt.rc_context({'xtick.color':'w', 'ytick.color':'w', 'text.color':'w', 'axes.labelcolor':'w'})\n",
        "\n",
        "seed=2811\n",
        "np.random.seed(seed)\n",
        "tf.random.set_seed(seed)\n",
        "\n",
        "\n",
        "\n"
      ],
      "execution_count": 2,
      "outputs": [
        {
          "output_type": "stream",
          "text": [
            "TensorFlow 2.x selected.\n"
          ],
          "name": "stdout"
        }
      ]
    },
    {
      "cell_type": "code",
      "metadata": {
        "id": "dyj5kTQHwImd",
        "colab_type": "code",
        "outputId": "7533c85d-702b-4daa-9acf-a56bba0ce636",
        "colab": {
          "base_uri": "https://localhost:8080/",
          "height": 476
        }
      },
      "source": [
        "pip install kaggle --upgrade"
      ],
      "execution_count": 3,
      "outputs": [
        {
          "output_type": "stream",
          "text": [
            "Requirement already up-to-date: kaggle in /usr/local/lib/python3.6/dist-packages (1.5.6)\n",
            "Collecting urllib3<1.25,>=1.21.1\n",
            "\u001b[?25l  Downloading https://files.pythonhosted.org/packages/01/11/525b02e4acc0c747de8b6ccdab376331597c569c42ea66ab0a1dbd36eca2/urllib3-1.24.3-py2.py3-none-any.whl (118kB)\n",
            "\r\u001b[K     |██▊                             | 10kB 25.1MB/s eta 0:00:01\r\u001b[K     |█████▌                          | 20kB 3.1MB/s eta 0:00:01\r\u001b[K     |████████▎                       | 30kB 4.2MB/s eta 0:00:01\r\u001b[K     |███████████                     | 40kB 2.9MB/s eta 0:00:01\r\u001b[K     |█████████████▉                  | 51kB 3.3MB/s eta 0:00:01\r\u001b[K     |████████████████▌               | 61kB 3.9MB/s eta 0:00:01\r\u001b[K     |███████████████████▎            | 71kB 4.1MB/s eta 0:00:01\r\u001b[K     |██████████████████████          | 81kB 4.5MB/s eta 0:00:01\r\u001b[K     |████████████████████████▉       | 92kB 5.0MB/s eta 0:00:01\r\u001b[K     |███████████████████████████▋    | 102kB 4.6MB/s eta 0:00:01\r\u001b[K     |██████████████████████████████▍ | 112kB 4.6MB/s eta 0:00:01\r\u001b[K     |████████████████████████████████| 122kB 4.6MB/s \n",
            "\u001b[?25hRequirement already satisfied, skipping upgrade: certifi in /tensorflow-2.1.0/python3.6 (from kaggle) (2019.11.28)\n",
            "Requirement already satisfied, skipping upgrade: requests in /tensorflow-2.1.0/python3.6 (from kaggle) (2.22.0)\n",
            "Requirement already satisfied, skipping upgrade: python-slugify in /usr/local/lib/python3.6/dist-packages (from kaggle) (4.0.0)\n",
            "Requirement already satisfied, skipping upgrade: six>=1.10 in /tensorflow-2.1.0/python3.6 (from kaggle) (1.14.0)\n",
            "Requirement already satisfied, skipping upgrade: python-dateutil in /usr/local/lib/python3.6/dist-packages (from kaggle) (2.6.1)\n",
            "Requirement already satisfied, skipping upgrade: tqdm in /usr/local/lib/python3.6/dist-packages (from kaggle) (4.28.1)\n",
            "Requirement already satisfied, skipping upgrade: idna<2.9,>=2.5 in /tensorflow-2.1.0/python3.6 (from requests->kaggle) (2.8)\n",
            "Requirement already satisfied, skipping upgrade: chardet<3.1.0,>=3.0.2 in /tensorflow-2.1.0/python3.6 (from requests->kaggle) (3.0.4)\n",
            "Requirement already satisfied, skipping upgrade: text-unidecode>=1.3 in /usr/local/lib/python3.6/dist-packages (from python-slugify->kaggle) (1.3)\n",
            "\u001b[31mERROR: google-colab 1.0.0 has requirement google-auth~=1.4.0, but you'll have google-auth 1.10.1 which is incompatible.\u001b[0m\n",
            "\u001b[31mERROR: google-colab 1.0.0 has requirement requests~=2.21.0, but you'll have requests 2.22.0 which is incompatible.\u001b[0m\n",
            "\u001b[31mERROR: google-colab 1.0.0 has requirement six~=1.12.0, but you'll have six 1.14.0 which is incompatible.\u001b[0m\n",
            "\u001b[31mERROR: datascience 0.10.6 has requirement folium==0.2.1, but you'll have folium 0.8.3 which is incompatible.\u001b[0m\n",
            "Installing collected packages: urllib3\n",
            "  Found existing installation: urllib3 1.25.7\n",
            "    Uninstalling urllib3-1.25.7:\n",
            "      Successfully uninstalled urllib3-1.25.7\n",
            "Successfully installed urllib3-1.24.3\n"
          ],
          "name": "stdout"
        },
        {
          "output_type": "display_data",
          "data": {
            "application/vnd.colab-display-data+json": {
              "pip_warning": {
                "packages": [
                  "urllib3"
                ]
              }
            }
          },
          "metadata": {
            "tags": []
          }
        }
      ]
    },
    {
      "cell_type": "code",
      "metadata": {
        "id": "ANUsknf5wn3h",
        "colab_type": "code",
        "colab": {}
      },
      "source": [
        "os.environ['KAGGLE_USERNAME'] = \"karenvaldez\"\n",
        "os.environ['KAGGLE_KEY'] = \"5912caabf0d1fa350842f382da374953\""
      ],
      "execution_count": 0,
      "outputs": []
    },
    {
      "cell_type": "code",
      "metadata": {
        "id": "-AUzD8P-Labn",
        "colab_type": "code",
        "outputId": "b97ed85c-9e13-4990-d73e-0facdcff38d2",
        "colab": {
          "base_uri": "https://localhost:8080/",
          "height": 68
        }
      },
      "source": [
        "#https://www.kaggle.com/rounakbanik/the-movies-dataset\n",
        "!kaggle datasets download rounakbanik/the-movies-dataset\n"
      ],
      "execution_count": 5,
      "outputs": [
        {
          "output_type": "stream",
          "text": [
            "Downloading the-movies-dataset.zip to /content\n",
            " 97% 221M/228M [00:01<00:00, 171MB/s]\n",
            "100% 228M/228M [00:01<00:00, 181MB/s]\n"
          ],
          "name": "stdout"
        }
      ]
    },
    {
      "cell_type": "code",
      "metadata": {
        "id": "552dVIULLfp-",
        "colab_type": "code",
        "outputId": "f673f464-7627-49b4-879d-5f3f387220cc",
        "colab": {
          "base_uri": "https://localhost:8080/",
          "height": 153
        }
      },
      "source": [
        "!unzip -o 'the-movies-dataset.zip'\n"
      ],
      "execution_count": 6,
      "outputs": [
        {
          "output_type": "stream",
          "text": [
            "Archive:  the-movies-dataset.zip\n",
            "  inflating: credits.csv             \n",
            "  inflating: keywords.csv            \n",
            "  inflating: links.csv               \n",
            "  inflating: links_small.csv         \n",
            "  inflating: movies_metadata.csv     \n",
            "  inflating: ratings.csv             \n",
            "  inflating: ratings_small.csv       \n"
          ],
          "name": "stdout"
        }
      ]
    },
    {
      "cell_type": "code",
      "metadata": {
        "id": "CNk78wQdLqAi",
        "colab_type": "code",
        "outputId": "c078719e-8dbd-44bd-8d30-ac658195f79a",
        "colab": {
          "base_uri": "https://localhost:8080/",
          "height": 187
        }
      },
      "source": [
        "os.listdir()\n"
      ],
      "execution_count": 7,
      "outputs": [
        {
          "output_type": "execute_result",
          "data": {
            "text/plain": [
              "['.config',\n",
              " 'links_small.csv',\n",
              " 'links.csv',\n",
              " 'keywords.csv',\n",
              " 'credits.csv',\n",
              " 'the-movies-dataset.zip',\n",
              " 'movies_metadata.csv',\n",
              " 'ratings.csv',\n",
              " 'ratings_small.csv',\n",
              " 'sample_data']"
            ]
          },
          "metadata": {
            "tags": []
          },
          "execution_count": 7
        }
      ]
    },
    {
      "cell_type": "code",
      "metadata": {
        "id": "jYYJzZyFL-wi",
        "colab_type": "code",
        "outputId": "aac7d3df-4169-4d26-e89a-ee5232bbacb3",
        "colab": {
          "base_uri": "https://localhost:8080/",
          "height": 289
        }
      },
      "source": [
        "movies = pd.read_csv('movies_metadata.csv')\n",
        "movies.head"
      ],
      "execution_count": 8,
      "outputs": [
        {
          "output_type": "stream",
          "text": [
            "/usr/local/lib/python3.6/dist-packages/IPython/core/interactiveshell.py:2718: DtypeWarning: Columns (10) have mixed types. Specify dtype option on import or set low_memory=False.\n",
            "  interactivity=interactivity, compiler=compiler, result=result)\n"
          ],
          "name": "stderr"
        },
        {
          "output_type": "execute_result",
          "data": {
            "text/plain": [
              "<bound method NDFrame.head of        adult  ... vote_count\n",
              "0      False  ...     5415.0\n",
              "1      False  ...     2413.0\n",
              "2      False  ...       92.0\n",
              "3      False  ...       34.0\n",
              "4      False  ...      173.0\n",
              "...      ...  ...        ...\n",
              "45461  False  ...        1.0\n",
              "45462  False  ...        3.0\n",
              "45463  False  ...        6.0\n",
              "45464  False  ...        0.0\n",
              "45465  False  ...        0.0\n",
              "\n",
              "[45466 rows x 24 columns]>"
            ]
          },
          "metadata": {
            "tags": []
          },
          "execution_count": 8
        }
      ]
    },
    {
      "cell_type": "code",
      "metadata": {
        "id": "pafm4sP-MGm4",
        "colab_type": "code",
        "outputId": "09092acb-69e2-4d9c-828a-5fc09e0931fe",
        "colab": {
          "base_uri": "https://localhost:8080/",
          "height": 136
        }
      },
      "source": [
        "movies.columns"
      ],
      "execution_count": 9,
      "outputs": [
        {
          "output_type": "execute_result",
          "data": {
            "text/plain": [
              "Index(['adult', 'belongs_to_collection', 'budget', 'genres', 'homepage', 'id',\n",
              "       'imdb_id', 'original_language', 'original_title', 'overview',\n",
              "       'popularity', 'poster_path', 'production_companies',\n",
              "       'production_countries', 'release_date', 'revenue', 'runtime',\n",
              "       'spoken_languages', 'status', 'tagline', 'title', 'video',\n",
              "       'vote_average', 'vote_count'],\n",
              "      dtype='object')"
            ]
          },
          "metadata": {
            "tags": []
          },
          "execution_count": 9
        }
      ]
    },
    {
      "cell_type": "code",
      "metadata": {
        "id": "TBLYlBekMW97",
        "colab_type": "code",
        "outputId": "27147805-20cf-4083-d909-ce1d603a2594",
        "colab": {
          "base_uri": "https://localhost:8080/",
          "height": 221
        }
      },
      "source": [
        "movies.genres"
      ],
      "execution_count": 10,
      "outputs": [
        {
          "output_type": "execute_result",
          "data": {
            "text/plain": [
              "0        [{'id': 16, 'name': 'Animation'}, {'id': 35, '...\n",
              "1        [{'id': 12, 'name': 'Adventure'}, {'id': 14, '...\n",
              "2        [{'id': 10749, 'name': 'Romance'}, {'id': 35, ...\n",
              "3        [{'id': 35, 'name': 'Comedy'}, {'id': 18, 'nam...\n",
              "4                           [{'id': 35, 'name': 'Comedy'}]\n",
              "                               ...                        \n",
              "45461    [{'id': 18, 'name': 'Drama'}, {'id': 10751, 'n...\n",
              "45462                        [{'id': 18, 'name': 'Drama'}]\n",
              "45463    [{'id': 28, 'name': 'Action'}, {'id': 18, 'nam...\n",
              "45464                                                   []\n",
              "45465                                                   []\n",
              "Name: genres, Length: 45466, dtype: object"
            ]
          },
          "metadata": {
            "tags": []
          },
          "execution_count": 10
        }
      ]
    },
    {
      "cell_type": "code",
      "metadata": {
        "id": "1xOD8Tn1MdTE",
        "colab_type": "code",
        "outputId": "4ab574fc-4efc-45c8-e9d8-f4dc2a953c0b",
        "colab": {
          "base_uri": "https://localhost:8080/",
          "height": 221
        }
      },
      "source": [
        "movies.overview"
      ],
      "execution_count": 11,
      "outputs": [
        {
          "output_type": "execute_result",
          "data": {
            "text/plain": [
              "0        Led by Woody, Andy's toys live happily in his ...\n",
              "1        When siblings Judy and Peter discover an encha...\n",
              "2        A family wedding reignites the ancient feud be...\n",
              "3        Cheated on, mistreated and stepped on, the wom...\n",
              "4        Just when George Banks has recovered from his ...\n",
              "                               ...                        \n",
              "45461          Rising and falling between a man and woman.\n",
              "45462    An artist struggles to finish his work while a...\n",
              "45463    When one of her hits goes wrong, a professiona...\n",
              "45464    In a small town live two brothers, one a minis...\n",
              "45465    50 years after decriminalisation of homosexual...\n",
              "Name: overview, Length: 45466, dtype: object"
            ]
          },
          "metadata": {
            "tags": []
          },
          "execution_count": 11
        }
      ]
    },
    {
      "cell_type": "code",
      "metadata": {
        "id": "Mk9JGVBvMmpM",
        "colab_type": "code",
        "colab": {}
      },
      "source": [
        "movies = movies[movies['imdb_id'] != '0']\n",
        "movies = movies[movies['genres'] != \"[]\"]\n",
        "movies = movies[~pd.isna(movies['overview'])]\n",
        "\n",
        "\n",
        "dataset = movies[['overview', 'genres']] "
      ],
      "execution_count": 0,
      "outputs": []
    },
    {
      "cell_type": "code",
      "metadata": {
        "id": "Z6fx2PwPMzYw",
        "colab_type": "code",
        "outputId": "e76fc7c2-6ae3-432e-cb6e-8da1a20f007c",
        "colab": {
          "base_uri": "https://localhost:8080/",
          "height": 34
        }
      },
      "source": [
        "len(dataset)"
      ],
      "execution_count": 13,
      "outputs": [
        {
          "output_type": "execute_result",
          "data": {
            "text/plain": [
              "42324"
            ]
          },
          "metadata": {
            "tags": []
          },
          "execution_count": 13
        }
      ]
    },
    {
      "cell_type": "code",
      "metadata": {
        "id": "TYWdsP4yM4Ct",
        "colab_type": "code",
        "outputId": "6ccba05d-1101-47c6-fe65-d438ba26c6f9",
        "colab": {
          "base_uri": "https://localhost:8080/",
          "height": 34
        }
      },
      "source": [
        "\n",
        "CLASS_NAMES = ['Drama','Comedy','Thriller','Romance','Action']\n",
        "CLASS_COUNT = len(CLASS_NAMES)\n",
        "CLASS_COUNT"
      ],
      "execution_count": 14,
      "outputs": [
        {
          "output_type": "execute_result",
          "data": {
            "text/plain": [
              "5"
            ]
          },
          "metadata": {
            "tags": []
          },
          "execution_count": 14
        }
      ]
    },
    {
      "cell_type": "code",
      "metadata": {
        "id": "YoCALL6iNaoV",
        "colab_type": "code",
        "outputId": "a6eaea13-ed6c-4f53-a676-c667f74a5761",
        "colab": {
          "base_uri": "https://localhost:8080/",
          "height": 34
        }
      },
      "source": [
        "dataset.iloc[0]['genres']"
      ],
      "execution_count": 15,
      "outputs": [
        {
          "output_type": "execute_result",
          "data": {
            "text/plain": [
              "\"[{'id': 16, 'name': 'Animation'}, {'id': 35, 'name': 'Comedy'}, {'id': 10751, 'name': 'Family'}]\""
            ]
          },
          "metadata": {
            "tags": []
          },
          "execution_count": 15
        }
      ]
    },
    {
      "cell_type": "code",
      "metadata": {
        "id": "X9SdyHGGNlOE",
        "colab_type": "code",
        "outputId": "6e0a454b-f461-4a98-93f4-ca0ff99b9528",
        "colab": {
          "base_uri": "https://localhost:8080/",
          "height": 119
        }
      },
      "source": [
        "dataset['genres'].replace(\"\\'\", \"\\\"\", regex=True, inplace=True)\n",
        "dataset.iloc[0]['genres']"
      ],
      "execution_count": 16,
      "outputs": [
        {
          "output_type": "stream",
          "text": [
            "/usr/local/lib/python3.6/dist-packages/pandas/core/generic.py:6786: SettingWithCopyWarning: \n",
            "A value is trying to be set on a copy of a slice from a DataFrame\n",
            "\n",
            "See the caveats in the documentation: http://pandas.pydata.org/pandas-docs/stable/user_guide/indexing.html#returning-a-view-versus-a-copy\n",
            "  self._update_inplace(new_data)\n"
          ],
          "name": "stderr"
        },
        {
          "output_type": "execute_result",
          "data": {
            "text/plain": [
              "'[{\"id\": 16, \"name\": \"Animation\"}, {\"id\": 35, \"name\": \"Comedy\"}, {\"id\": 10751, \"name\": \"Family\"}]'"
            ]
          },
          "metadata": {
            "tags": []
          },
          "execution_count": 16
        }
      ]
    },
    {
      "cell_type": "code",
      "metadata": {
        "id": "GE3EZCNxNrJ_",
        "colab_type": "code",
        "colab": {}
      },
      "source": [
        "#genre_to_id = dict()\n",
        "label_count = dict()\n",
        "\n",
        "def genre_to_list(str_genre):\n",
        "  keep = True\n",
        "  genre_list = list(map(lambda genre:genre['name'],json.loads(str_genre)))\n",
        "  \n",
        "  for genre in genre_list:\n",
        "    count = label_count.get(genre, 0) + 1\n",
        "    label_count[genre] = count\n",
        "    if (count > 5000):\n",
        "      keep = False\n",
        "    #if (genre_to_id.get(genre,-1) == -1):\n",
        "    #  genre_to_id[genre] = len(genre_to_id.keys())\n",
        "  genres_as_ids = list(map(lambda x: CLASS_NAMES.index(x), filter(lambda x: x in CLASS_NAMES, genre_list)))\n",
        "  #genres_as_ids = list(map(lambda x:genre_to_id[x], genre_list)) \n",
        "  genres_one_hot = list()\n",
        "\n",
        "  if (len(genres_as_ids) > 0 and keep):\n",
        "    genres_one_hot = tf.keras.utils.to_categorical(genres_as_ids, CLASS_COUNT, dtype='int')\n",
        "    genres_one_hot = functools.reduce(lambda x,y : x+y,genres_one_hot)\n",
        "\n",
        "  return genres_one_hot"
      ],
      "execution_count": 0,
      "outputs": []
    },
    {
      "cell_type": "code",
      "metadata": {
        "id": "eH9EtY4nOZTX",
        "colab_type": "code",
        "outputId": "79a5a97c-af4e-4ba5-9a71-dfdb12af1ba8",
        "colab": {
          "base_uri": "https://localhost:8080/",
          "height": 136
        }
      },
      "source": [
        "dataset['genres'] = dataset['genres'].apply(lambda x: genre_to_list(x))\n",
        "dataset.iloc[0]['genres']"
      ],
      "execution_count": 18,
      "outputs": [
        {
          "output_type": "stream",
          "text": [
            "/usr/local/lib/python3.6/dist-packages/ipykernel_launcher.py:1: SettingWithCopyWarning: \n",
            "A value is trying to be set on a copy of a slice from a DataFrame.\n",
            "Try using .loc[row_indexer,col_indexer] = value instead\n",
            "\n",
            "See the caveats in the documentation: http://pandas.pydata.org/pandas-docs/stable/user_guide/indexing.html#returning-a-view-versus-a-copy\n",
            "  \"\"\"Entry point for launching an IPython kernel.\n"
          ],
          "name": "stderr"
        },
        {
          "output_type": "execute_result",
          "data": {
            "text/plain": [
              "array([0, 1, 0, 0, 0])"
            ]
          },
          "metadata": {
            "tags": []
          },
          "execution_count": 18
        }
      ]
    },
    {
      "cell_type": "code",
      "metadata": {
        "id": "fOIATOCjOeTu",
        "colab_type": "code",
        "outputId": "a71fbd65-6e99-4993-bd63-f45b202ed2f4",
        "colab": {
          "base_uri": "https://localhost:8080/",
          "height": 34
        }
      },
      "source": [
        "dataset = dataset[~dataset['genres'].str.len().eq(0)]\n",
        "len(dataset)"
      ],
      "execution_count": 19,
      "outputs": [
        {
          "output_type": "execute_result",
          "data": {
            "text/plain": [
              "11869"
            ]
          },
          "metadata": {
            "tags": []
          },
          "execution_count": 19
        }
      ]
    },
    {
      "cell_type": "code",
      "metadata": {
        "id": "FAiKR0sbOkZH",
        "colab_type": "code",
        "outputId": "ebfc6d0b-291e-4adf-b5ba-f7e9da4df781",
        "colab": {
          "base_uri": "https://localhost:8080/",
          "height": 357
        }
      },
      "source": [
        "sorted(label_count.items(), key=lambda x: x[1], reverse=True)"
      ],
      "execution_count": 20,
      "outputs": [
        {
          "output_type": "execute_result",
          "data": {
            "text/plain": [
              "[('Drama', 20023),\n",
              " ('Comedy', 12806),\n",
              " ('Thriller', 7586),\n",
              " ('Romance', 6673),\n",
              " ('Action', 6565),\n",
              " ('Horror', 4660),\n",
              " ('Crime', 4269),\n",
              " ('Documentary', 3886),\n",
              " ('Adventure', 3470),\n",
              " ('Science Fiction', 3028),\n",
              " ('Family', 2732),\n",
              " ('Mystery', 2451),\n",
              " ('Fantasy', 2290),\n",
              " ('Animation', 1920),\n",
              " ('Foreign', 1599),\n",
              " ('Music', 1588),\n",
              " ('History', 1379),\n",
              " ('War', 1310),\n",
              " ('Western', 1035),\n",
              " ('TV Movie', 751)]"
            ]
          },
          "metadata": {
            "tags": []
          },
          "execution_count": 20
        }
      ]
    },
    {
      "cell_type": "code",
      "metadata": {
        "id": "hXiyAS83Orr6",
        "colab_type": "code",
        "colab": {}
      },
      "source": [
        "#CLASS_NAMES = list(genre_to_id.keys())\n",
        "#CLASS_COUNT == len(CLASS_NAMES), CLASS_NAMES"
      ],
      "execution_count": 0,
      "outputs": []
    },
    {
      "cell_type": "code",
      "metadata": {
        "id": "0THlDKN0O1VA",
        "colab_type": "code",
        "outputId": "128ebb17-d65d-45cb-cfd5-06bd95089bb6",
        "colab": {
          "base_uri": "https://localhost:8080/",
          "height": 34
        }
      },
      "source": [
        "train_split = dataset.sample(frac = 0.7,random_state=42)\n",
        "test_split = dataset.drop(train_split.index).sample(frac = 0.5)\n",
        "validation_split = dataset.drop(train_split.index).drop(test_split.index)\n",
        "\n",
        "train_split.shape, validation_split.shape, test_split.shape"
      ],
      "execution_count": 22,
      "outputs": [
        {
          "output_type": "execute_result",
          "data": {
            "text/plain": [
              "((8308, 2), (1781, 2), (1780, 2))"
            ]
          },
          "metadata": {
            "tags": []
          },
          "execution_count": 22
        }
      ]
    },
    {
      "cell_type": "code",
      "metadata": {
        "id": "GcY2_M7MPtlf",
        "colab_type": "code",
        "outputId": "b53b23da-49f8-424c-de8e-4f9186581733",
        "colab": {
          "base_uri": "https://localhost:8080/",
          "height": 68
        }
      },
      "source": [
        "train_split.iloc[0]\n"
      ],
      "execution_count": 23,
      "outputs": [
        {
          "output_type": "execute_result",
          "data": {
            "text/plain": [
              "overview    Christopher Walken shines in this cult-favorit...\n",
              "genres                                        [1, 1, 1, 0, 1]\n",
              "Name: 1701, dtype: object"
            ]
          },
          "metadata": {
            "tags": []
          },
          "execution_count": 23
        }
      ]
    },
    {
      "cell_type": "code",
      "metadata": {
        "id": "-k_PnTz0QDcW",
        "colab_type": "code",
        "outputId": "6acb4867-9088-45d9-f386-9aba70776f45",
        "colab": {
          "base_uri": "https://localhost:8080/",
          "height": 34
        }
      },
      "source": [
        "train_labels = train_split['genres']\n",
        "test_labels = test_split['genres']\n",
        "validation_labels = validation_split['genres']\n",
        "train_labels.shape, test_labels.shape, validation_labels.shape"
      ],
      "execution_count": 24,
      "outputs": [
        {
          "output_type": "execute_result",
          "data": {
            "text/plain": [
              "((8308,), (1780,), (1781,))"
            ]
          },
          "metadata": {
            "tags": []
          },
          "execution_count": 24
        }
      ]
    },
    {
      "cell_type": "code",
      "metadata": {
        "id": "fbPN1580QHjU",
        "colab_type": "code",
        "outputId": "2193d91c-3072-47ca-dde3-b45425e299ef",
        "colab": {
          "base_uri": "https://localhost:8080/",
          "height": 51
        }
      },
      "source": [
        "train_dataset = tf.data.Dataset.from_tensor_slices((train_split['overview'], train_split['genres']))\n",
        "test_dataset = tf.data.Dataset.from_tensor_slices((test_split['overview'], test_split['genres']))\n",
        "validation_dataset = tf.data.Dataset.from_tensor_slices((validation_split['overview'], validation_split['genres']))\n",
        "train_dataset.element_spec"
      ],
      "execution_count": 25,
      "outputs": [
        {
          "output_type": "execute_result",
          "data": {
            "text/plain": [
              "(TensorSpec(shape=(), dtype=tf.string, name=None),\n",
              " TensorSpec(shape=(5,), dtype=tf.int32, name=None))"
            ]
          },
          "metadata": {
            "tags": []
          },
          "execution_count": 25
        }
      ]
    },
    {
      "cell_type": "code",
      "metadata": {
        "id": "41zw1cvIQNZD",
        "colab_type": "code",
        "outputId": "0afed486-006a-4b6b-d6c6-8e41a50c396c",
        "colab": {
          "base_uri": "https://localhost:8080/",
          "height": 71
        }
      },
      "source": [
        "overview, genres = next(iter(train_dataset))\n",
        "overview, genres\n"
      ],
      "execution_count": 26,
      "outputs": [
        {
          "output_type": "execute_result",
          "data": {
            "text/plain": [
              "(<tf.Tensor: shape=(), dtype=string, numpy=b'Christopher Walken shines in this cult-favorite dark comedy as Charlie, a former mobster who is abducted by five privileged young men (Sean Patrick Flanery, Johnny Galecki, Jay Mohr, Jeremy Sisto, Henry Thomas) desperate to raise a $2 million ransom to save the sister of a friend. As Charlie plays mind games, however, his captors splinter -- each wondering whether one of their own had a hand in the crime.'>,\n",
              " <tf.Tensor: shape=(5,), dtype=int32, numpy=array([1, 1, 1, 0, 1], dtype=int32)>)"
            ]
          },
          "metadata": {
            "tags": []
          },
          "execution_count": 26
        }
      ]
    },
    {
      "cell_type": "code",
      "metadata": {
        "id": "DjqrsdKnQagy",
        "colab_type": "code",
        "colab": {}
      },
      "source": [
        "batch_size = 128\n",
        "shuffle_buffer_size = 1000"
      ],
      "execution_count": 0,
      "outputs": []
    },
    {
      "cell_type": "code",
      "metadata": {
        "id": "xi5P7EHZQrIA",
        "colab_type": "code",
        "colab": {}
      },
      "source": [
        "train_dataset = train_dataset.shuffle(shuffle_buffer_size).repeat().batch(batch_size)\n",
        "validation_dataset = validation_dataset.shuffle(shuffle_buffer_size).batch(batch_size)\n",
        "test_dataset = test_dataset.shuffle(shuffle_buffer_size).batch(batch_size)\n"
      ],
      "execution_count": 0,
      "outputs": []
    },
    {
      "cell_type": "code",
      "metadata": {
        "id": "a4wI37RMQ-RL",
        "colab_type": "code",
        "outputId": "a9112ca4-b4aa-49fb-c1c0-31eca9047fd0",
        "colab": {
          "base_uri": "https://localhost:8080/",
          "height": 34
        }
      },
      "source": [
        "overview, genres = next(iter(train_dataset))\n",
        "overview.shape, genres.shape"
      ],
      "execution_count": 29,
      "outputs": [
        {
          "output_type": "execute_result",
          "data": {
            "text/plain": [
              "(TensorShape([128]), TensorShape([128, 5]))"
            ]
          },
          "metadata": {
            "tags": []
          },
          "execution_count": 29
        }
      ]
    },
    {
      "cell_type": "code",
      "metadata": {
        "id": "4bxoywguQ_l4",
        "colab_type": "code",
        "colab": {}
      },
      "source": [
        "epochs = 20\n",
        "train_steps = 10\n",
        "validation_steps = 5"
      ],
      "execution_count": 0,
      "outputs": []
    },
    {
      "cell_type": "code",
      "metadata": {
        "id": "M5F6mljD9v7_",
        "colab_type": "code",
        "colab": {}
      },
      "source": [
        "# https://tfhub.dev/tensorflow/tfjs-model/toxicity/1/default/1\n",
        "# embedding = \"https://tfhub.dev/google/elmo/3\"\n",
        "embedding = \"https://tfhub.dev/google/Wiki-words-500-with-normalization/2\"\n",
        "hub_layer = hub.KerasLayer(embedding, input_shape=[], \n",
        "                           dtype=tf.string, trainable=False)"
      ],
      "execution_count": 0,
      "outputs": []
    },
    {
      "cell_type": "code",
      "metadata": {
        "id": "159y6yeA_C1b",
        "colab_type": "code",
        "colab": {
          "base_uri": "https://localhost:8080/",
          "height": 289
        },
        "outputId": "984f27fe-6223-49da-fe27-c6750b8287d8"
      },
      "source": [
        "model = tf.keras.Sequential([\n",
        "                             hub_layer,\n",
        "                             Flatten(),\n",
        "                             Dense(64, activation='relu'),  \n",
        "                             Dense(CLASS_COUNT, activation='sigmoid'),\n",
        "])\n",
        "\n",
        "model.summary()"
      ],
      "execution_count": 32,
      "outputs": [
        {
          "output_type": "stream",
          "text": [
            "Model: \"sequential\"\n",
            "_________________________________________________________________\n",
            "Layer (type)                 Output Shape              Param #   \n",
            "=================================================================\n",
            "keras_layer (KerasLayer)     (None, 500)               504687500 \n",
            "_________________________________________________________________\n",
            "flatten (Flatten)            (None, 500)               0         \n",
            "_________________________________________________________________\n",
            "dense (Dense)                (None, 64)                32064     \n",
            "_________________________________________________________________\n",
            "dense_1 (Dense)              (None, 5)                 325       \n",
            "=================================================================\n",
            "Total params: 504,719,889\n",
            "Trainable params: 32,389\n",
            "Non-trainable params: 504,687,500\n",
            "_________________________________________________________________\n"
          ],
          "name": "stdout"
        }
      ]
    },
    {
      "cell_type": "code",
      "metadata": {
        "id": "_BKOQOhrDZS4",
        "colab_type": "code",
        "colab": {}
      },
      "source": [
        "model.compile(optimizer='adam',\n",
        "              loss='binary_crossentropy',\n",
        "              metrics=['accuracy'])"
      ],
      "execution_count": 0,
      "outputs": []
    },
    {
      "cell_type": "code",
      "metadata": {
        "id": "yBaZv2CuD4qf",
        "colab_type": "code",
        "colab": {
          "base_uri": "https://localhost:8080/",
          "height": 714
        },
        "outputId": "7259715e-83ca-4cee-b8ae-d253df2733a9"
      },
      "source": [
        "history = model.fit(train_dataset,\n",
        "                    epochs=epochs,\n",
        "                    steps_per_epoch=3,\n",
        "                    validation_data=validation_dataset,\n",
        "                    validation_steps=validation_steps\n",
        "                   ) "
      ],
      "execution_count": 34,
      "outputs": [
        {
          "output_type": "stream",
          "text": [
            "Train for 3 steps, validate for 5 steps\n",
            "Epoch 1/20\n",
            "3/3 [==============================] - 1s 290ms/step - loss: 0.6768 - accuracy: 0.5745 - val_loss: 0.6389 - val_accuracy: 0.6697\n",
            "Epoch 2/20\n",
            "3/3 [==============================] - 0s 44ms/step - loss: 0.6332 - accuracy: 0.6755 - val_loss: 0.6132 - val_accuracy: 0.6700\n",
            "Epoch 3/20\n",
            "3/3 [==============================] - 0s 43ms/step - loss: 0.6209 - accuracy: 0.6781 - val_loss: 0.6088 - val_accuracy: 0.6713\n",
            "Epoch 4/20\n",
            "3/3 [==============================] - 0s 51ms/step - loss: 0.6112 - accuracy: 0.6823 - val_loss: 0.6123 - val_accuracy: 0.6697\n",
            "Epoch 5/20\n",
            "3/3 [==============================] - 0s 51ms/step - loss: 0.6130 - accuracy: 0.6828 - val_loss: 0.6012 - val_accuracy: 0.6709\n",
            "Epoch 6/20\n",
            "3/3 [==============================] - 0s 52ms/step - loss: 0.5930 - accuracy: 0.6974 - val_loss: 0.5983 - val_accuracy: 0.6750\n",
            "Epoch 7/20\n",
            "3/3 [==============================] - 0s 48ms/step - loss: 0.6108 - accuracy: 0.6729 - val_loss: 0.5962 - val_accuracy: 0.6700\n",
            "Epoch 8/20\n",
            "3/3 [==============================] - 0s 44ms/step - loss: 0.6033 - accuracy: 0.6703 - val_loss: 0.5852 - val_accuracy: 0.6856\n",
            "Epoch 9/20\n",
            "3/3 [==============================] - 0s 48ms/step - loss: 0.5897 - accuracy: 0.6943 - val_loss: 0.5867 - val_accuracy: 0.6856\n",
            "Epoch 10/20\n",
            "3/3 [==============================] - 0s 42ms/step - loss: 0.5782 - accuracy: 0.7026 - val_loss: 0.5832 - val_accuracy: 0.6872\n",
            "Epoch 11/20\n",
            "3/3 [==============================] - 0s 38ms/step - loss: 0.5879 - accuracy: 0.6880 - val_loss: 0.5792 - val_accuracy: 0.6878\n",
            "Epoch 12/20\n",
            "3/3 [==============================] - 0s 35ms/step - loss: 0.5712 - accuracy: 0.7021 - val_loss: 0.5742 - val_accuracy: 0.6950\n",
            "Epoch 13/20\n",
            "3/3 [==============================] - 0s 49ms/step - loss: 0.5679 - accuracy: 0.6964 - val_loss: 0.5631 - val_accuracy: 0.7081\n",
            "Epoch 14/20\n",
            "3/3 [==============================] - 0s 47ms/step - loss: 0.5676 - accuracy: 0.7125 - val_loss: 0.5565 - val_accuracy: 0.7184\n",
            "Epoch 15/20\n",
            "3/3 [==============================] - 0s 41ms/step - loss: 0.5588 - accuracy: 0.7193 - val_loss: 0.5593 - val_accuracy: 0.7103\n",
            "Epoch 16/20\n",
            "3/3 [==============================] - 0s 49ms/step - loss: 0.5739 - accuracy: 0.6969 - val_loss: 0.5612 - val_accuracy: 0.7084\n",
            "Epoch 17/20\n",
            "3/3 [==============================] - 0s 45ms/step - loss: 0.5619 - accuracy: 0.7208 - val_loss: 0.5587 - val_accuracy: 0.7066\n",
            "Epoch 18/20\n",
            "3/3 [==============================] - 0s 39ms/step - loss: 0.5551 - accuracy: 0.7219 - val_loss: 0.5628 - val_accuracy: 0.7006\n",
            "Epoch 19/20\n",
            "3/3 [==============================] - 0s 28ms/step - loss: 0.5578 - accuracy: 0.7141 - val_loss: 0.5598 - val_accuracy: 0.7128\n",
            "Epoch 20/20\n",
            "3/3 [==============================] - 0s 33ms/step - loss: 0.5615 - accuracy: 0.7021 - val_loss: 0.5561 - val_accuracy: 0.7134\n"
          ],
          "name": "stdout"
        }
      ]
    },
    {
      "cell_type": "code",
      "metadata": {
        "id": "TFV2qk8eD8nu",
        "colab_type": "code",
        "colab": {
          "base_uri": "https://localhost:8080/",
          "height": 621
        },
        "outputId": "60af830e-0480-4423-8cf5-99fe57c01411"
      },
      "source": [
        "acc = history.history['accuracy']\n",
        "val_acc = history.history['val_accuracy']\n",
        "\n",
        "loss = history.history['loss']\n",
        "val_loss = history.history['val_loss']\n",
        "\n",
        "plt.figure(figsize=(10, 10))\n",
        "plt.subplot(2, 1, 1)\n",
        "plt.plot(acc, label='Training Accuracy')\n",
        "plt.plot(val_acc, label='Validation Accuracy')\n",
        "plt.legend(loc='lower right')\n",
        "plt.setp(plt.legend().get_texts(), color='black')\n",
        "plt.ylabel('Accuracy')\n",
        "plt.ylim([min(plt.ylim()),1.0])\n",
        "plt.title('Training and Validation Accuracy')\n",
        "\n",
        "plt.subplot(2, 1, 2)\n",
        "plt.plot(loss, label='Training Loss')\n",
        "plt.plot(val_loss, label='Validation Loss')\n",
        "plt.legend(loc='upper right')\n",
        "plt.setp(plt.legend().get_texts(), color='black')\n",
        "plt.ylabel('Cross Entropy')\n",
        "plt.ylim([0.0,1.0])\n",
        "plt.title('Training and Validation Loss')\n",
        "plt.xlabel('epoch')\n",
        "plt.show()"
      ],
      "execution_count": 35,
      "outputs": [
        {
          "output_type": "display_data",
          "data": {
            "image/png": "[encoded data removed]",
            "text/plain": [
              "<Figure size 720x720 with 2 Axes>"
            ]
          },
          "metadata": {
            "tags": []
          }
        }
      ]
    },
    {
      "cell_type": "code",
      "metadata": {
        "id": "-WX-rM5x6Dg4",
        "colab_type": "code",
        "colab": {
          "base_uri": "https://localhost:8080/",
          "height": 51
        },
        "outputId": "c4663024-6705-49bb-ae6f-7d3bb2f1f824"
      },
      "source": [
        "test_loss, test_acc = model.evaluate(test_dataset, verbose=3)\n",
        "print('Loss:', test_loss)\n",
        "print('Accuracy:', test_acc)"
      ],
      "execution_count": 38,
      "outputs": [
        {
          "output_type": "stream",
          "text": [
            "Loss: 0.5513013047831399\n",
            "Accuracy: 0.71921355\n"
          ],
          "name": "stdout"
        }
      ]
    }
  ]
}