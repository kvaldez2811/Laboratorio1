{
  "nbformat": 4,
  "nbformat_minor": 0,
  "metadata": {
    "colab": {
      "name": "Lab4.ipynb",
      "provenance": []
    },
    "kernelspec": {
      "name": "python3",
      "display_name": "Python 3"
    },
    "accelerator": "GPU"
  },
  "cells": [
    {
      "cell_type": "code",
      "metadata": {
        "id": "CHTeiRzPZota",
        "colab_type": "code",
        "colab": {}
      },
      "source": [
        "%tensorflow_version 2.x\n",
        "import tensorflow as tf\n",
        "import tensorflow_hub as hub\n",
        "\n",
        "\n",
        "from tensorflow.keras.datasets import  fashion_mnist\n",
        "from tensorflow.keras.models import Sequential\n",
        "from tensorflow.keras.layers import Dense, Flatten, Dropout, Conv2D, MaxPooling2D\n",
        "from tensorflow.keras.preprocessing.image import ImageDataGenerator\n",
        "from tensorflow.keras import backend as back\n",
        "\n",
        "import os\n",
        "import numpy as np\n",
        "import PIL.Image as Image\n",
        "import matplotlib.pylab as plt\n",
        "\n",
        "\n",
        "seed=2811\n",
        "np.random.seed(seed)\n",
        "tf.random.set_seed(seed)"
      ],
      "execution_count": 0,
      "outputs": []
    },
    {
      "cell_type": "code",
      "metadata": {
        "id": "KXcG5gF4aF-K",
        "colab_type": "code",
        "colab": {}
      },
      "source": [
        "batch_size = 28\n",
        "num_classes = 10\n",
        "epochs = 30\n",
        "img_rows, img_cols = 28, 28"
      ],
      "execution_count": 0,
      "outputs": []
    },
    {
      "cell_type": "code",
      "metadata": {
        "id": "twiq051ji6Ap",
        "colab_type": "code",
        "colab": {
          "base_uri": "https://localhost:8080/",
          "height": 69
        },
        "outputId": "73097738-6527-438b-99b4-4feea6873c30"
      },
      "source": [
        "\n",
        "(x_train, y_train), (x_test, y_test) =  fashion_mnist.load_data()\n",
        "print('x_train shape:', x_train.shape)\n",
        "print(x_train.shape[0], 'train samples')\n",
        "print(x_test.shape[0], 'test samples')"
      ],
      "execution_count": 20,
      "outputs": [
        {
          "output_type": "stream",
          "text": [
            "x_train shape: (60000, 28, 28)\n",
            "60000 train samples\n",
            "10000 test samples\n"
          ],
          "name": "stdout"
        }
      ]
    },
    {
      "cell_type": "code",
      "metadata": {
        "id": "-0nfmI2Pjeez",
        "colab_type": "code",
        "colab": {}
      },
      "source": [
        "y_train = tf.keras.utils.to_categorical(y_train, num_classes)\n",
        "y_test = tf.keras.utils.to_categorical(y_test, num_classes)\n"
      ],
      "execution_count": 0,
      "outputs": []
    },
    {
      "cell_type": "code",
      "metadata": {
        "id": "NEEhaT5qjg7Z",
        "colab_type": "code",
        "colab": {}
      },
      "source": [
        "\n",
        "if back.image_data_format() == 'channels_first':\n",
        "    x_train = x_train.reshape(x_train.shape[0], 1, img_rows, img_cols)\n",
        "    x_test = x_test.reshape(x_test.shape[0], 1, img_rows, img_cols)\n",
        "    input_shape = (1, img_rows, img_cols)\n",
        "else:\n",
        "    x_train = x_train.reshape(x_train.shape[0], img_rows, img_cols, 1)\n",
        "    x_test = x_test.reshape(x_test.shape[0], img_rows, img_cols, 1)\n",
        "    input_shape = (img_rows, img_cols, 1)"
      ],
      "execution_count": 0,
      "outputs": []
    },
    {
      "cell_type": "code",
      "metadata": {
        "id": "9VL19la0kI6q",
        "colab_type": "code",
        "colab": {}
      },
      "source": [
        "model = Sequential([\n",
        "        Conv2D(32, kernel_size=(3, 3),\n",
        "                 activation='relu',\n",
        "                 input_shape=input_shape),\n",
        "        Conv2D(64, (3, 3), activation='relu'),\n",
        "        MaxPooling2D(pool_size=(2, 2)),\n",
        "        Dropout(0.25),\n",
        "        Flatten(),\n",
        "        Dense(128, activation='relu'),\n",
        "        Dropout(0.5),\n",
        "        Dense(num_classes, activation='softmax')\n",
        "])"
      ],
      "execution_count": 0,
      "outputs": []
    },
    {
      "cell_type": "code",
      "metadata": {
        "id": "YIM_DGzMkz46",
        "colab_type": "code",
        "colab": {}
      },
      "source": [
        "model.compile(loss=tf.keras.losses.categorical_crossentropy,\n",
        "              optimizer=tf.keras.optimizers.Adadelta(),\n",
        "              metrics=['accuracy'])"
      ],
      "execution_count": 0,
      "outputs": []
    },
    {
      "cell_type": "code",
      "metadata": {
        "id": "iQL5MuT4k_Nd",
        "colab_type": "code",
        "colab": {
          "base_uri": "https://localhost:8080/",
          "height": 1000
        },
        "outputId": "389e61b9-0797-4ed0-ff32-796c4126c4cd"
      },
      "source": [
        "hst = model.fit(x_train, y_train,\n",
        "          batch_size=batch_size,\n",
        "          epochs=epochs,\n",
        "          verbose=1,\n",
        "          validation_data=(x_test, y_test))"
      ],
      "execution_count": 25,
      "outputs": [
        {
          "output_type": "stream",
          "text": [
            "Train on 60000 samples, validate on 10000 samples\n",
            "Epoch 1/30\n",
            "60000/60000 [==============================] - 18s 293us/sample - loss: 14.4173 - accuracy: 0.2315 - val_loss: 1.3184 - val_accuracy: 0.5152\n",
            "Epoch 2/30\n",
            "60000/60000 [==============================] - 10s 168us/sample - loss: 3.0064 - accuracy: 0.2917 - val_loss: 1.5988 - val_accuracy: 0.4442\n",
            "Epoch 3/30\n",
            "60000/60000 [==============================] - 10s 173us/sample - loss: 2.1282 - accuracy: 0.3158 - val_loss: 1.4686 - val_accuracy: 0.4490\n",
            "Epoch 4/30\n",
            "60000/60000 [==============================] - 10s 172us/sample - loss: 1.9127 - accuracy: 0.3479 - val_loss: 1.3248 - val_accuracy: 0.4863\n",
            "Epoch 5/30\n",
            "60000/60000 [==============================] - 10s 174us/sample - loss: 1.7828 - accuracy: 0.3796 - val_loss: 1.2199 - val_accuracy: 0.5231\n",
            "Epoch 6/30\n",
            "60000/60000 [==============================] - 10s 172us/sample - loss: 1.6880 - accuracy: 0.4033 - val_loss: 1.1189 - val_accuracy: 0.5575\n",
            "Epoch 7/30\n",
            "60000/60000 [==============================] - 10s 169us/sample - loss: 1.6188 - accuracy: 0.4333 - val_loss: 1.0552 - val_accuracy: 0.5876\n",
            "Epoch 8/30\n",
            "60000/60000 [==============================] - 10s 169us/sample - loss: 1.5461 - accuracy: 0.4496 - val_loss: 0.9939 - val_accuracy: 0.6277\n",
            "Epoch 9/30\n",
            "60000/60000 [==============================] - 10s 163us/sample - loss: 1.4852 - accuracy: 0.4729 - val_loss: 0.9522 - val_accuracy: 0.6450\n",
            "Epoch 10/30\n",
            "60000/60000 [==============================] - 9s 157us/sample - loss: 1.4407 - accuracy: 0.4879 - val_loss: 0.9126 - val_accuracy: 0.6644\n",
            "Epoch 11/30\n",
            "60000/60000 [==============================] - 10s 161us/sample - loss: 1.3943 - accuracy: 0.5069 - val_loss: 0.8840 - val_accuracy: 0.6802\n",
            "Epoch 12/30\n",
            "60000/60000 [==============================] - 9s 158us/sample - loss: 1.3579 - accuracy: 0.5211 - val_loss: 0.8560 - val_accuracy: 0.6926\n",
            "Epoch 13/30\n",
            "60000/60000 [==============================] - 9s 157us/sample - loss: 1.3149 - accuracy: 0.5353 - val_loss: 0.8408 - val_accuracy: 0.7050\n",
            "Epoch 14/30\n",
            "60000/60000 [==============================] - 11s 176us/sample - loss: 1.2809 - accuracy: 0.5569 - val_loss: 0.8222 - val_accuracy: 0.7185\n",
            "Epoch 15/30\n",
            "60000/60000 [==============================] - 10s 164us/sample - loss: 1.2533 - accuracy: 0.5731 - val_loss: 0.8040 - val_accuracy: 0.7212\n",
            "Epoch 16/30\n",
            "60000/60000 [==============================] - 10s 161us/sample - loss: 1.2212 - accuracy: 0.5860 - val_loss: 0.7779 - val_accuracy: 0.7222\n",
            "Epoch 17/30\n",
            "60000/60000 [==============================] - 10s 174us/sample - loss: 1.2031 - accuracy: 0.5917 - val_loss: 0.7718 - val_accuracy: 0.7283\n",
            "Epoch 18/30\n",
            "60000/60000 [==============================] - 10s 164us/sample - loss: 1.1741 - accuracy: 0.6023 - val_loss: 0.7553 - val_accuracy: 0.7310\n",
            "Epoch 19/30\n",
            "60000/60000 [==============================] - 10s 163us/sample - loss: 1.1518 - accuracy: 0.6095 - val_loss: 0.7400 - val_accuracy: 0.7360\n",
            "Epoch 20/30\n",
            "60000/60000 [==============================] - 10s 168us/sample - loss: 1.1235 - accuracy: 0.6151 - val_loss: 0.7337 - val_accuracy: 0.7386\n",
            "Epoch 21/30\n",
            "60000/60000 [==============================] - 10s 174us/sample - loss: 1.1090 - accuracy: 0.6233 - val_loss: 0.7193 - val_accuracy: 0.7389\n",
            "Epoch 22/30\n",
            "60000/60000 [==============================] - 10s 172us/sample - loss: 1.0910 - accuracy: 0.6295 - val_loss: 0.7074 - val_accuracy: 0.7433\n",
            "Epoch 23/30\n",
            "60000/60000 [==============================] - 10s 172us/sample - loss: 1.0736 - accuracy: 0.6335 - val_loss: 0.7063 - val_accuracy: 0.7437\n",
            "Epoch 24/30\n",
            "60000/60000 [==============================] - 10s 169us/sample - loss: 1.0594 - accuracy: 0.6412 - val_loss: 0.6960 - val_accuracy: 0.7459\n",
            "Epoch 25/30\n",
            "60000/60000 [==============================] - 10s 171us/sample - loss: 1.0491 - accuracy: 0.6432 - val_loss: 0.6869 - val_accuracy: 0.7485\n",
            "Epoch 26/30\n",
            "60000/60000 [==============================] - 10s 170us/sample - loss: 1.0330 - accuracy: 0.6472 - val_loss: 0.6804 - val_accuracy: 0.7506\n",
            "Epoch 27/30\n",
            "60000/60000 [==============================] - 10s 169us/sample - loss: 1.0172 - accuracy: 0.6521 - val_loss: 0.6713 - val_accuracy: 0.7517\n",
            "Epoch 28/30\n",
            "60000/60000 [==============================] - 11s 175us/sample - loss: 1.0007 - accuracy: 0.6562 - val_loss: 0.6670 - val_accuracy: 0.7541\n",
            "Epoch 29/30\n",
            "60000/60000 [==============================] - 10s 170us/sample - loss: 0.9935 - accuracy: 0.6581 - val_loss: 0.6569 - val_accuracy: 0.7562\n",
            "Epoch 30/30\n",
            "60000/60000 [==============================] - 10s 165us/sample - loss: 0.9847 - accuracy: 0.6624 - val_loss: 0.6556 - val_accuracy: 0.7582\n"
          ],
          "name": "stdout"
        }
      ]
    },
    {
      "cell_type": "code",
      "metadata": {
        "id": "gQCgQt0FlJkf",
        "colab_type": "code",
        "colab": {}
      },
      "source": [
        "opt = tf.keras.optimizers.RMSprop(learning_rate=0.0001, decay=1e-6)\n",
        "\n",
        "model.compile(loss='categorical_crossentropy',\n",
        "              optimizer=opt,\n",
        "              metrics=['accuracy'])\n"
      ],
      "execution_count": 0,
      "outputs": []
    },
    {
      "cell_type": "code",
      "metadata": {
        "id": "vyCagaC-mzDs",
        "colab_type": "code",
        "colab": {}
      },
      "source": [
        "\n",
        "x_train = x_train / 255\n",
        "x_test = x_test / 255"
      ],
      "execution_count": 0,
      "outputs": []
    },
    {
      "cell_type": "code",
      "metadata": {
        "id": "6Fqu0YjYm9Ew",
        "colab_type": "code",
        "colab": {
          "base_uri": "https://localhost:8080/",
          "height": 1000
        },
        "outputId": "49d2bb45-2546-4a27-d200-0d548c681a74"
      },
      "source": [
        "\n",
        "history = model.fit(x_train, y_train,\n",
        "              batch_size=batch_size,\n",
        "              epochs=epochs,\n",
        "              validation_data=(x_test, y_test),\n",
        "              shuffle=True)"
      ],
      "execution_count": 32,
      "outputs": [
        {
          "output_type": "stream",
          "text": [
            "Train on 60000 samples, validate on 10000 samples\n",
            "Epoch 1/30\n",
            "60000/60000 [==============================] - 11s 178us/sample - loss: 1.5881 - accuracy: 0.4496 - val_loss: 0.8257 - val_accuracy: 0.7099\n",
            "Epoch 2/30\n",
            "60000/60000 [==============================] - 10s 169us/sample - loss: 0.8216 - accuracy: 0.7007 - val_loss: 0.6623 - val_accuracy: 0.7560\n",
            "Epoch 3/30\n",
            "60000/60000 [==============================] - 10s 168us/sample - loss: 0.7026 - accuracy: 0.7445 - val_loss: 0.6086 - val_accuracy: 0.7769\n",
            "Epoch 4/30\n",
            "60000/60000 [==============================] - 10s 167us/sample - loss: 0.6521 - accuracy: 0.7632 - val_loss: 0.5782 - val_accuracy: 0.7886\n",
            "Epoch 5/30\n",
            "60000/60000 [==============================] - 10s 169us/sample - loss: 0.6161 - accuracy: 0.7754 - val_loss: 0.5506 - val_accuracy: 0.7977\n",
            "Epoch 6/30\n",
            "60000/60000 [==============================] - 10s 166us/sample - loss: 0.5911 - accuracy: 0.7854 - val_loss: 0.5389 - val_accuracy: 0.8014\n",
            "Epoch 7/30\n",
            "60000/60000 [==============================] - 10s 167us/sample - loss: 0.5781 - accuracy: 0.7910 - val_loss: 0.5266 - val_accuracy: 0.8082\n",
            "Epoch 8/30\n",
            "60000/60000 [==============================] - 10s 167us/sample - loss: 0.5646 - accuracy: 0.7951 - val_loss: 0.5110 - val_accuracy: 0.8160\n",
            "Epoch 9/30\n",
            "60000/60000 [==============================] - 10s 167us/sample - loss: 0.5545 - accuracy: 0.8026 - val_loss: 0.5082 - val_accuracy: 0.8145\n",
            "Epoch 10/30\n",
            "60000/60000 [==============================] - 10s 166us/sample - loss: 0.5428 - accuracy: 0.8055 - val_loss: 0.4991 - val_accuracy: 0.8225\n",
            "Epoch 11/30\n",
            "60000/60000 [==============================] - 10s 167us/sample - loss: 0.5363 - accuracy: 0.8092 - val_loss: 0.4910 - val_accuracy: 0.8246\n",
            "Epoch 12/30\n",
            "60000/60000 [==============================] - 10s 166us/sample - loss: 0.5305 - accuracy: 0.8101 - val_loss: 0.4906 - val_accuracy: 0.8232\n",
            "Epoch 13/30\n",
            "60000/60000 [==============================] - 10s 169us/sample - loss: 0.5269 - accuracy: 0.8109 - val_loss: 0.4811 - val_accuracy: 0.8300\n",
            "Epoch 14/30\n",
            "60000/60000 [==============================] - 10s 168us/sample - loss: 0.5217 - accuracy: 0.8126 - val_loss: 0.4811 - val_accuracy: 0.8288\n",
            "Epoch 15/30\n",
            "60000/60000 [==============================] - 10s 169us/sample - loss: 0.5202 - accuracy: 0.8145 - val_loss: 0.4759 - val_accuracy: 0.8306\n",
            "Epoch 16/30\n",
            "60000/60000 [==============================] - 10s 166us/sample - loss: 0.5203 - accuracy: 0.8143 - val_loss: 0.4700 - val_accuracy: 0.8296\n",
            "Epoch 17/30\n",
            "60000/60000 [==============================] - 10s 167us/sample - loss: 0.5161 - accuracy: 0.8152 - val_loss: 0.4692 - val_accuracy: 0.8343\n",
            "Epoch 18/30\n",
            "60000/60000 [==============================] - 10s 167us/sample - loss: 0.5140 - accuracy: 0.8166 - val_loss: 0.4642 - val_accuracy: 0.8325\n",
            "Epoch 19/30\n",
            "60000/60000 [==============================] - 10s 166us/sample - loss: 0.5143 - accuracy: 0.8188 - val_loss: 0.4600 - val_accuracy: 0.8363\n",
            "Epoch 20/30\n",
            "60000/60000 [==============================] - 10s 170us/sample - loss: 0.5136 - accuracy: 0.8188 - val_loss: 0.4560 - val_accuracy: 0.8376\n",
            "Epoch 21/30\n",
            "60000/60000 [==============================] - 10s 167us/sample - loss: 0.5089 - accuracy: 0.8197 - val_loss: 0.4567 - val_accuracy: 0.8360\n",
            "Epoch 22/30\n",
            "60000/60000 [==============================] - 10s 166us/sample - loss: 0.5050 - accuracy: 0.8203 - val_loss: 0.4514 - val_accuracy: 0.8391\n",
            "Epoch 23/30\n",
            "60000/60000 [==============================] - 10s 175us/sample - loss: 0.5047 - accuracy: 0.8198 - val_loss: 0.4512 - val_accuracy: 0.8349\n",
            "Epoch 24/30\n",
            "60000/60000 [==============================] - 10s 166us/sample - loss: 0.4980 - accuracy: 0.8238 - val_loss: 0.4506 - val_accuracy: 0.8402\n",
            "Epoch 25/30\n",
            "60000/60000 [==============================] - 10s 165us/sample - loss: 0.4962 - accuracy: 0.8247 - val_loss: 0.4429 - val_accuracy: 0.8424\n",
            "Epoch 26/30\n",
            "60000/60000 [==============================] - 10s 168us/sample - loss: 0.4949 - accuracy: 0.8231 - val_loss: 0.4391 - val_accuracy: 0.8397\n",
            "Epoch 27/30\n",
            "60000/60000 [==============================] - 10s 166us/sample - loss: 0.4884 - accuracy: 0.8275 - val_loss: 0.4447 - val_accuracy: 0.8437\n",
            "Epoch 28/30\n",
            "60000/60000 [==============================] - 10s 165us/sample - loss: 0.4873 - accuracy: 0.8282 - val_loss: 0.4507 - val_accuracy: 0.8422\n",
            "Epoch 29/30\n",
            "60000/60000 [==============================] - 10s 171us/sample - loss: 0.4839 - accuracy: 0.8269 - val_loss: 0.4406 - val_accuracy: 0.8442\n",
            "Epoch 30/30\n",
            "60000/60000 [==============================] - 10s 166us/sample - loss: 0.4792 - accuracy: 0.8304 - val_loss: 0.4369 - val_accuracy: 0.8442\n"
          ],
          "name": "stdout"
        }
      ]
    },
    {
      "cell_type": "code",
      "metadata": {
        "id": "F51gAK5AoQ6D",
        "colab_type": "code",
        "colab": {
          "base_uri": "https://localhost:8080/",
          "height": 621
        },
        "outputId": "5a3c327b-ba53-4cde-cce1-6ff46ed4b9ff"
      },
      "source": [
        "acc = history.history['accuracy']\n",
        "val_acc = history.history['val_accuracy']\n",
        "\n",
        "loss = history.history['loss']\n",
        "val_loss = history.history['val_loss']\n",
        "\n",
        "plt.figure(figsize=(10, 10))\n",
        "plt.subplot(2, 1, 1)\n",
        "plt.plot(acc, label='Training Accuracy')\n",
        "plt.plot(val_acc, label='Validation Accuracy')\n",
        "plt.legend(loc='lower right')\n",
        "plt.setp(plt.legend().get_texts(), color='black')\n",
        "plt.ylabel('Accuracy')\n",
        "plt.ylim([min(plt.ylim()),1.0])\n",
        "plt.title('Training and Validation Accuracy')\n",
        "\n",
        "plt.subplot(2, 1, 2)\n",
        "plt.plot(loss, label='Training Loss')\n",
        "plt.plot(val_loss, label='Validation Loss')\n",
        "plt.legend(loc='upper right')\n",
        "plt.setp(plt.legend().get_texts(), color='black')\n",
        "plt.ylabel('Cross Entropy')\n",
        "plt.ylim([0.0,1.0])\n",
        "plt.title('Training and Validation Loss')\n",
        "plt.xlabel('epoch')\n",
        "plt.show()"
      ],
      "execution_count": 33,
      "outputs": [
        {
          "output_type": "display_data",
          "data": {
            "image/png": "[encoded data removed]",
            "text/plain": [
              "<Figure size 720x720 with 2 Axes>"
            ]
          },
          "metadata": {
            "tags": []
          }
        }
      ]
    },
    {
      "cell_type": "code",
      "metadata": {
        "id": "3lygReRbqLUQ",
        "colab_type": "code",
        "colab": {
          "base_uri": "https://localhost:8080/",
          "height": 52
        },
        "outputId": "e150fdd0-97fb-4099-aac9-e0275028fcab"
      },
      "source": [
        "\n",
        "test_loss, test_acc = model.evaluate(x_test, y_test, verbose=3)\n",
        "\n",
        "print('Loss:', test_loss)\n",
        "print('Accuracy:', test_acc)"
      ],
      "execution_count": 34,
      "outputs": [
        {
          "output_type": "stream",
          "text": [
            "Loss: 0.4368619833946228\n",
            "Accuracy: 0.8442\n"
          ],
          "name": "stdout"
        }
      ]
    },
    {
      "cell_type": "code",
      "metadata": {
        "id": "Y7D7f7F0qYYa",
        "colab_type": "code",
        "colab": {}
      },
      "source": [
        ""
      ],
      "execution_count": 0,
      "outputs": []
    }
  ]
}